{
 "cells": [
  {
   "cell_type": "markdown",
   "id": "dc34e269-8c84-4eed-8bfd-8940c169c4c4",
   "metadata": {},
   "source": [
    "Import library yg di gunakan"
   ]
  },
  {
   "cell_type": "markdown",
   "id": "15198736-76a4-4ea0-9ef6-c760ecffb1d1",
   "metadata": {},
   "source": [
    "# Data Preparation"
   ]
  },
  {
   "cell_type": "code",
   "execution_count": 28,
   "id": "e57b84c9-1fce-41da-b28f-a48e9d5e8118",
   "metadata": {},
   "outputs": [],
   "source": [
    "import pandas as pd\n",
    "import numpy as npnp\n",
    "import seaborn as sns\n",
    "import matplotlib.pyplot as plt\n",
    "import warnings\n",
    "warnings.filterwarnings('ignore')"
   ]
  },
  {
   "cell_type": "code",
   "execution_count": 29,
   "id": "ebd3c3e3-1b66-4302-ae75-d59a73434288",
   "metadata": {},
   "outputs": [
    {
     "data": {
      "text/html": [
       "<div>\n",
       "<style scoped>\n",
       "    .dataframe tbody tr th:only-of-type {\n",
       "        vertical-align: middle;\n",
       "    }\n",
       "\n",
       "    .dataframe tbody tr th {\n",
       "        vertical-align: top;\n",
       "    }\n",
       "\n",
       "    .dataframe thead th {\n",
       "        text-align: right;\n",
       "    }\n",
       "</style>\n",
       "<table border=\"1\" class=\"dataframe\">\n",
       "  <thead>\n",
       "    <tr style=\"text-align: right;\">\n",
       "      <th></th>\n",
       "      <th>pickup</th>\n",
       "      <th>dropoff</th>\n",
       "      <th>passengers</th>\n",
       "      <th>distance</th>\n",
       "      <th>fare</th>\n",
       "      <th>tip</th>\n",
       "      <th>tolls</th>\n",
       "      <th>total</th>\n",
       "      <th>color</th>\n",
       "      <th>payment</th>\n",
       "      <th>pickup_zone</th>\n",
       "      <th>dropoff_zone</th>\n",
       "      <th>pickup_borough</th>\n",
       "      <th>dropoff_borough</th>\n",
       "    </tr>\n",
       "  </thead>\n",
       "  <tbody>\n",
       "    <tr>\n",
       "      <th>0</th>\n",
       "      <td>2019-03-23 20:21:09</td>\n",
       "      <td>2019-03-23 20:27:24</td>\n",
       "      <td>1</td>\n",
       "      <td>1.60</td>\n",
       "      <td>7.0</td>\n",
       "      <td>2.15</td>\n",
       "      <td>0.0</td>\n",
       "      <td>12.95</td>\n",
       "      <td>yellow</td>\n",
       "      <td>credit card</td>\n",
       "      <td>Lenox Hill West</td>\n",
       "      <td>UN/Turtle Bay South</td>\n",
       "      <td>Manhattan</td>\n",
       "      <td>Manhattan</td>\n",
       "    </tr>\n",
       "    <tr>\n",
       "      <th>1</th>\n",
       "      <td>2019-03-04 16:11:55</td>\n",
       "      <td>2019-03-04 16:19:00</td>\n",
       "      <td>1</td>\n",
       "      <td>0.79</td>\n",
       "      <td>5.0</td>\n",
       "      <td>0.00</td>\n",
       "      <td>0.0</td>\n",
       "      <td>9.30</td>\n",
       "      <td>yellow</td>\n",
       "      <td>cash</td>\n",
       "      <td>Upper West Side South</td>\n",
       "      <td>Upper West Side South</td>\n",
       "      <td>Manhattan</td>\n",
       "      <td>Manhattan</td>\n",
       "    </tr>\n",
       "    <tr>\n",
       "      <th>2</th>\n",
       "      <td>2019-03-27 17:53:01</td>\n",
       "      <td>2019-03-27 18:00:25</td>\n",
       "      <td>1</td>\n",
       "      <td>1.37</td>\n",
       "      <td>7.5</td>\n",
       "      <td>2.36</td>\n",
       "      <td>0.0</td>\n",
       "      <td>14.16</td>\n",
       "      <td>yellow</td>\n",
       "      <td>credit card</td>\n",
       "      <td>Alphabet City</td>\n",
       "      <td>West Village</td>\n",
       "      <td>Manhattan</td>\n",
       "      <td>Manhattan</td>\n",
       "    </tr>\n",
       "    <tr>\n",
       "      <th>3</th>\n",
       "      <td>2019-03-10 01:23:59</td>\n",
       "      <td>2019-03-10 01:49:51</td>\n",
       "      <td>1</td>\n",
       "      <td>7.70</td>\n",
       "      <td>27.0</td>\n",
       "      <td>6.15</td>\n",
       "      <td>0.0</td>\n",
       "      <td>36.95</td>\n",
       "      <td>yellow</td>\n",
       "      <td>credit card</td>\n",
       "      <td>Hudson Sq</td>\n",
       "      <td>Yorkville West</td>\n",
       "      <td>Manhattan</td>\n",
       "      <td>Manhattan</td>\n",
       "    </tr>\n",
       "    <tr>\n",
       "      <th>4</th>\n",
       "      <td>2019-03-30 13:27:42</td>\n",
       "      <td>2019-03-30 13:37:14</td>\n",
       "      <td>3</td>\n",
       "      <td>2.16</td>\n",
       "      <td>9.0</td>\n",
       "      <td>1.10</td>\n",
       "      <td>0.0</td>\n",
       "      <td>13.40</td>\n",
       "      <td>yellow</td>\n",
       "      <td>credit card</td>\n",
       "      <td>Midtown East</td>\n",
       "      <td>Yorkville West</td>\n",
       "      <td>Manhattan</td>\n",
       "      <td>Manhattan</td>\n",
       "    </tr>\n",
       "  </tbody>\n",
       "</table>\n",
       "</div>"
      ],
      "text/plain": [
       "               pickup             dropoff  passengers  distance  fare   tip  \\\n",
       "0 2019-03-23 20:21:09 2019-03-23 20:27:24           1      1.60   7.0  2.15   \n",
       "1 2019-03-04 16:11:55 2019-03-04 16:19:00           1      0.79   5.0  0.00   \n",
       "2 2019-03-27 17:53:01 2019-03-27 18:00:25           1      1.37   7.5  2.36   \n",
       "3 2019-03-10 01:23:59 2019-03-10 01:49:51           1      7.70  27.0  6.15   \n",
       "4 2019-03-30 13:27:42 2019-03-30 13:37:14           3      2.16   9.0  1.10   \n",
       "\n",
       "   tolls  total   color      payment            pickup_zone  \\\n",
       "0    0.0  12.95  yellow  credit card        Lenox Hill West   \n",
       "1    0.0   9.30  yellow         cash  Upper West Side South   \n",
       "2    0.0  14.16  yellow  credit card          Alphabet City   \n",
       "3    0.0  36.95  yellow  credit card              Hudson Sq   \n",
       "4    0.0  13.40  yellow  credit card           Midtown East   \n",
       "\n",
       "            dropoff_zone pickup_borough dropoff_borough  \n",
       "0    UN/Turtle Bay South      Manhattan       Manhattan  \n",
       "1  Upper West Side South      Manhattan       Manhattan  \n",
       "2           West Village      Manhattan       Manhattan  \n",
       "3         Yorkville West      Manhattan       Manhattan  \n",
       "4         Yorkville West      Manhattan       Manhattan  "
      ]
     },
     "execution_count": 29,
     "metadata": {},
     "output_type": "execute_result"
    }
   ],
   "source": [
    "taxis_df = sns.load_dataset(\"taxis\")\n",
    "taxis_df.head()"
   ]
  },
  {
   "cell_type": "code",
   "execution_count": 30,
   "id": "4aeeb318-17f0-4dd0-9dfd-c9b4d310baa8",
   "metadata": {},
   "outputs": [
    {
     "name": "stdout",
     "output_type": "stream",
     "text": [
      "<class 'pandas.core.frame.DataFrame'>\n",
      "RangeIndex: 6433 entries, 0 to 6432\n",
      "Data columns (total 14 columns):\n",
      " #   Column           Non-Null Count  Dtype         \n",
      "---  ------           --------------  -----         \n",
      " 0   pickup           6433 non-null   datetime64[ns]\n",
      " 1   dropoff          6433 non-null   datetime64[ns]\n",
      " 2   passengers       6433 non-null   int64         \n",
      " 3   distance         6433 non-null   float64       \n",
      " 4   fare             6433 non-null   float64       \n",
      " 5   tip              6433 non-null   float64       \n",
      " 6   tolls            6433 non-null   float64       \n",
      " 7   total            6433 non-null   float64       \n",
      " 8   color            6433 non-null   object        \n",
      " 9   payment          6389 non-null   object        \n",
      " 10  pickup_zone      6407 non-null   object        \n",
      " 11  dropoff_zone     6388 non-null   object        \n",
      " 12  pickup_borough   6407 non-null   object        \n",
      " 13  dropoff_borough  6388 non-null   object        \n",
      "dtypes: datetime64[ns](2), float64(5), int64(1), object(6)\n",
      "memory usage: 703.7+ KB\n"
     ]
    }
   ],
   "source": [
    "taxis_df.info()"
   ]
  },
  {
   "cell_type": "markdown",
   "id": "b2e62f44-326e-48ef-83fd-f9afc8afcf4d",
   "metadata": {
    "jp-MarkdownHeadingCollapsed": true
   },
   "source": [
    "# Data Cleansing"
   ]
  },
  {
   "cell_type": "code",
   "execution_count": 31,
   "id": "0f74d82c-20fe-4ca8-93d9-6ff746a646e6",
   "metadata": {},
   "outputs": [
    {
     "name": "stdout",
     "output_type": "stream",
     "text": [
      "             Column  Missing Values  Missing Percentage\n",
      "0            pickup               0            0.000000\n",
      "1           dropoff               0            0.000000\n",
      "2        passengers               0            0.000000\n",
      "3          distance               0            0.000000\n",
      "4              fare               0            0.000000\n",
      "5               tip               0            0.000000\n",
      "6             tolls               0            0.000000\n",
      "7             total               0            0.000000\n",
      "8             color               0            0.000000\n",
      "9           payment              44            0.683973\n",
      "10      pickup_zone              26            0.404166\n",
      "11     dropoff_zone              45            0.699518\n",
      "12   pickup_borough              26            0.404166\n",
      "13  dropoff_borough              45            0.699518\n"
     ]
    }
   ],
   "source": [
    "missing_values = taxis_df.isnull().sum()\n",
    "missing_percentages = (missing_values / len(taxis_df)) * 100\n",
    "missing_info = pd.DataFrame({\n",
    "    'Column' : missing_values.index,\n",
    "    'Missing Values' : missing_values.values,\n",
    "    'Missing Percentage' : missing_percentages.values\n",
    "})\n",
    "\n",
    "print(missing_info)"
   ]
  },
  {
   "cell_type": "code",
   "execution_count": 32,
   "id": "43180b0e-41e2-4c0a-bdf1-9d02e01878a3",
   "metadata": {},
   "outputs": [
    {
     "data": {
      "text/plain": [
       "payment      pickup_zone               dropoff_zone              pickup_borough  dropoff_borough\n",
       "credit card  Upper East Side North     Upper East Side North     Manhattan       Manhattan          26\n",
       "             Upper East Side South     Upper East Side North     Manhattan       Manhattan          22\n",
       "             Upper East Side North     Upper East Side South     Manhattan       Manhattan          18\n",
       "             Upper West Side South     Lincoln Square East       Manhattan       Manhattan          17\n",
       "cash         Astoria                   Astoria                   Queens          Queens             16\n",
       "                                                                                                    ..\n",
       "credit card  Central Harlem            Upper West Side South     Manhattan       Manhattan           1\n",
       "                                       West Concourse            Manhattan       Bronx               1\n",
       "                                       Williamsbridge/Olinville  Manhattan       Bronx               1\n",
       "                                       Yorkville West            Manhattan       Manhattan           1\n",
       "             Financial District South  Midtown South             Manhattan       Manhattan           1\n",
       "Name: count, Length: 3410, dtype: int64"
      ]
     },
     "execution_count": 32,
     "metadata": {},
     "output_type": "execute_result"
    }
   ],
   "source": [
    "#check value counts for categorical data\n",
    "\n",
    "taxis_df.value_counts(['payment', 'pickup_zone', 'dropoff_zone', 'pickup_borough', 'dropoff_borough'])"
   ]
  },
  {
   "cell_type": "code",
   "execution_count": 33,
   "id": "cad36a76-f766-4586-83bf-c779252938ad",
   "metadata": {},
   "outputs": [
    {
     "data": {
      "text/plain": [
       "pickup_zone\n",
       "Midtown Center                         230\n",
       "Upper East Side South                  211\n",
       "Penn Station/Madison Sq West           210\n",
       "Clinton East                           208\n",
       "Midtown East                           198\n",
       "                                      ... \n",
       "Homecrest                                1\n",
       "Bedford Park                             1\n",
       "Riverdale/North Riverdale/Fieldston      1\n",
       "Hollis                                   1\n",
       "Hillcrest/Pomonok                        1\n",
       "Name: count, Length: 194, dtype: int64"
      ]
     },
     "execution_count": 33,
     "metadata": {},
     "output_type": "execute_result"
    }
   ],
   "source": [
    "taxis_df.pickup_zone.value_counts()"
   ]
  },
  {
   "cell_type": "code",
   "execution_count": 34,
   "id": "e8dfd0ed-319a-4854-985c-120c1429ff77",
   "metadata": {},
   "outputs": [
    {
     "data": {
      "text/plain": [
       "dropoff_zone\n",
       "Upper East Side North        245\n",
       "Murray Hill                  220\n",
       "Midtown Center               215\n",
       "Upper East Side South        177\n",
       "Midtown East                 176\n",
       "                            ... \n",
       "Bensonhurst East               1\n",
       "Springfield Gardens South      1\n",
       "East Flushing                  1\n",
       "Brighton Beach                 1\n",
       "Ozone Park                     1\n",
       "Name: count, Length: 203, dtype: int64"
      ]
     },
     "execution_count": 34,
     "metadata": {},
     "output_type": "execute_result"
    }
   ],
   "source": [
    "taxis_df.dropoff_zone.value_counts()"
   ]
  },
  {
   "cell_type": "code",
   "execution_count": 35,
   "id": "4f3598f3-93ba-4c81-9e38-534bebf2ec08",
   "metadata": {},
   "outputs": [],
   "source": [
    "#drop the columns\n",
    "\n",
    "taxis_df.drop(['pickup_zone', 'dropoff_zone'], axis=1, inplace = True)"
   ]
  },
  {
   "cell_type": "code",
   "execution_count": 36,
   "id": "bf6c195f-bc07-470a-9f13-9f7f61ad1d4c",
   "metadata": {},
   "outputs": [
    {
     "data": {
      "text/plain": [
       "0.006839732628633608"
      ]
     },
     "execution_count": 36,
     "metadata": {},
     "output_type": "execute_result"
    }
   ],
   "source": [
    "#check the percentage of Payment column\n",
    "taxis_df['payment'].isna().sum()/taxis_df.shape[0]"
   ]
  },
  {
   "cell_type": "code",
   "execution_count": 37,
   "id": "65386a5b-4e6e-4f5a-8998-9b38e98c450c",
   "metadata": {},
   "outputs": [
    {
     "data": {
      "text/plain": [
       "payment\n",
       "credit card    4577\n",
       "cash           1812\n",
       "Name: count, dtype: int64"
      ]
     },
     "execution_count": 37,
     "metadata": {},
     "output_type": "execute_result"
    }
   ],
   "source": [
    "taxis_df.payment.value_counts()"
   ]
  },
  {
   "cell_type": "code",
   "execution_count": 38,
   "id": "fc6c4779-b9f9-4cb2-813b-4ba8971a4673",
   "metadata": {},
   "outputs": [],
   "source": [
    "#cleaning for categorical data\n",
    "\n",
    "val = taxis_df.payment.mode().values[0]\n",
    "taxis_df['payment'] = taxis_df.payment.fillna(val)"
   ]
  },
  {
   "cell_type": "code",
   "execution_count": 39,
   "id": "cab25440-eed3-46f0-8c64-98a8b536f604",
   "metadata": {},
   "outputs": [
    {
     "data": {
      "text/plain": [
       "payment\n",
       "credit card    4621\n",
       "cash           1812\n",
       "Name: count, dtype: int64"
      ]
     },
     "execution_count": 39,
     "metadata": {},
     "output_type": "execute_result"
    }
   ],
   "source": [
    "#check it again\n",
    "\n",
    "taxis_df.payment.value_counts()"
   ]
  },
  {
   "cell_type": "code",
   "execution_count": 40,
   "id": "6d981577-5090-416e-89ba-13f62cc9c0ef",
   "metadata": {},
   "outputs": [
    {
     "data": {
      "text/plain": [
       "0.004041660189647132"
      ]
     },
     "execution_count": 40,
     "metadata": {},
     "output_type": "execute_result"
    }
   ],
   "source": [
    "#check the percentage of Pickup_borough column\n",
    "taxis_df['pickup_borough'].isna().sum()/taxis_df.shape[0]"
   ]
  },
  {
   "cell_type": "code",
   "execution_count": 41,
   "id": "6032241a-b724-42fb-9827-da7e73b32a38",
   "metadata": {},
   "outputs": [
    {
     "data": {
      "text/plain": [
       "pickup_borough\n",
       "Manhattan    5268\n",
       "Queens        657\n",
       "Brooklyn      383\n",
       "Bronx          99\n",
       "Name: count, dtype: int64"
      ]
     },
     "execution_count": 41,
     "metadata": {},
     "output_type": "execute_result"
    }
   ],
   "source": [
    "taxis_df.pickup_borough.value_counts()"
   ]
  },
  {
   "cell_type": "code",
   "execution_count": 42,
   "id": "d13d14a8-5e1b-4e36-a15a-82ac4b0108e8",
   "metadata": {},
   "outputs": [],
   "source": [
    "#cleaning for categorical data\n",
    "\n",
    "val = taxis_df.pickup_borough.mode().values[0]\n",
    "taxis_df['pickup_borough'] = taxis_df.pickup_borough.fillna(val)"
   ]
  },
  {
   "cell_type": "code",
   "execution_count": 43,
   "id": "ae0b2b68-33f6-492e-9de8-017783f14af5",
   "metadata": {},
   "outputs": [
    {
     "data": {
      "text/plain": [
       "pickup_borough\n",
       "Manhattan    5294\n",
       "Queens        657\n",
       "Brooklyn      383\n",
       "Bronx          99\n",
       "Name: count, dtype: int64"
      ]
     },
     "execution_count": 43,
     "metadata": {},
     "output_type": "execute_result"
    }
   ],
   "source": [
    "#check it again\n",
    "\n",
    "taxis_df.pickup_borough.value_counts()"
   ]
  },
  {
   "cell_type": "code",
   "execution_count": 44,
   "id": "cb638163-7838-4269-95cd-00ff3692d440",
   "metadata": {},
   "outputs": [
    {
     "data": {
      "text/plain": [
       "0.00699518109746619"
      ]
     },
     "execution_count": 44,
     "metadata": {},
     "output_type": "execute_result"
    }
   ],
   "source": [
    "#check the percentage of Dropoff_borough column\n",
    "taxis_df['dropoff_borough'].isna().sum()/taxis_df.shape[0]"
   ]
  },
  {
   "cell_type": "code",
   "execution_count": 45,
   "id": "3922fd1d-8d76-42a7-a71e-73ca55c6548b",
   "metadata": {},
   "outputs": [
    {
     "data": {
      "text/plain": [
       "dropoff_borough\n",
       "Manhattan        5206\n",
       "Queens            542\n",
       "Brooklyn          501\n",
       "Bronx             137\n",
       "Staten Island       2\n",
       "Name: count, dtype: int64"
      ]
     },
     "execution_count": 45,
     "metadata": {},
     "output_type": "execute_result"
    }
   ],
   "source": [
    "taxis_df.dropoff_borough.value_counts()"
   ]
  },
  {
   "cell_type": "code",
   "execution_count": 46,
   "id": "22ad8bcd-7612-4e40-8574-3cfbade07ce8",
   "metadata": {},
   "outputs": [],
   "source": [
    "#cleaning for categorical data\n",
    "\n",
    "val = taxis_df.dropoff_borough.mode().values[0]\n",
    "taxis_df['dropoff_borough'] = taxis_df.dropoff_borough.fillna(val)"
   ]
  },
  {
   "cell_type": "code",
   "execution_count": 47,
   "id": "76f4e1b5-53d2-438a-a39b-4bed2f3eff07",
   "metadata": {},
   "outputs": [
    {
     "data": {
      "text/plain": [
       "dropoff_borough\n",
       "Manhattan        5251\n",
       "Queens            542\n",
       "Brooklyn          501\n",
       "Bronx             137\n",
       "Staten Island       2\n",
       "Name: count, dtype: int64"
      ]
     },
     "execution_count": 47,
     "metadata": {},
     "output_type": "execute_result"
    }
   ],
   "source": [
    "#check it again\n",
    "\n",
    "taxis_df.dropoff_borough.value_counts()"
   ]
  },
  {
   "cell_type": "code",
   "execution_count": 48,
   "id": "121e1011-47c6-4502-9560-fd229745badf",
   "metadata": {},
   "outputs": [
    {
     "data": {
      "text/html": [
       "<div>\n",
       "<style scoped>\n",
       "    .dataframe tbody tr th:only-of-type {\n",
       "        vertical-align: middle;\n",
       "    }\n",
       "\n",
       "    .dataframe tbody tr th {\n",
       "        vertical-align: top;\n",
       "    }\n",
       "\n",
       "    .dataframe thead th {\n",
       "        text-align: right;\n",
       "    }\n",
       "</style>\n",
       "<table border=\"1\" class=\"dataframe\">\n",
       "  <thead>\n",
       "    <tr style=\"text-align: right;\">\n",
       "      <th></th>\n",
       "      <th>pickup</th>\n",
       "      <th>dropoff</th>\n",
       "      <th>passengers</th>\n",
       "      <th>distance</th>\n",
       "      <th>fare</th>\n",
       "      <th>tip</th>\n",
       "      <th>tolls</th>\n",
       "      <th>total</th>\n",
       "      <th>color</th>\n",
       "      <th>payment</th>\n",
       "      <th>pickup_borough</th>\n",
       "      <th>dropoff_borough</th>\n",
       "    </tr>\n",
       "  </thead>\n",
       "  <tbody>\n",
       "    <tr>\n",
       "      <th>0</th>\n",
       "      <td>2019-03-23 20:21:09</td>\n",
       "      <td>2019-03-23 20:27:24</td>\n",
       "      <td>1</td>\n",
       "      <td>1.60</td>\n",
       "      <td>7.0</td>\n",
       "      <td>2.15</td>\n",
       "      <td>0.0</td>\n",
       "      <td>12.95</td>\n",
       "      <td>yellow</td>\n",
       "      <td>credit card</td>\n",
       "      <td>Manhattan</td>\n",
       "      <td>Manhattan</td>\n",
       "    </tr>\n",
       "    <tr>\n",
       "      <th>1</th>\n",
       "      <td>2019-03-04 16:11:55</td>\n",
       "      <td>2019-03-04 16:19:00</td>\n",
       "      <td>1</td>\n",
       "      <td>0.79</td>\n",
       "      <td>5.0</td>\n",
       "      <td>0.00</td>\n",
       "      <td>0.0</td>\n",
       "      <td>9.30</td>\n",
       "      <td>yellow</td>\n",
       "      <td>cash</td>\n",
       "      <td>Manhattan</td>\n",
       "      <td>Manhattan</td>\n",
       "    </tr>\n",
       "    <tr>\n",
       "      <th>2</th>\n",
       "      <td>2019-03-27 17:53:01</td>\n",
       "      <td>2019-03-27 18:00:25</td>\n",
       "      <td>1</td>\n",
       "      <td>1.37</td>\n",
       "      <td>7.5</td>\n",
       "      <td>2.36</td>\n",
       "      <td>0.0</td>\n",
       "      <td>14.16</td>\n",
       "      <td>yellow</td>\n",
       "      <td>credit card</td>\n",
       "      <td>Manhattan</td>\n",
       "      <td>Manhattan</td>\n",
       "    </tr>\n",
       "    <tr>\n",
       "      <th>3</th>\n",
       "      <td>2019-03-10 01:23:59</td>\n",
       "      <td>2019-03-10 01:49:51</td>\n",
       "      <td>1</td>\n",
       "      <td>7.70</td>\n",
       "      <td>27.0</td>\n",
       "      <td>6.15</td>\n",
       "      <td>0.0</td>\n",
       "      <td>36.95</td>\n",
       "      <td>yellow</td>\n",
       "      <td>credit card</td>\n",
       "      <td>Manhattan</td>\n",
       "      <td>Manhattan</td>\n",
       "    </tr>\n",
       "    <tr>\n",
       "      <th>4</th>\n",
       "      <td>2019-03-30 13:27:42</td>\n",
       "      <td>2019-03-30 13:37:14</td>\n",
       "      <td>3</td>\n",
       "      <td>2.16</td>\n",
       "      <td>9.0</td>\n",
       "      <td>1.10</td>\n",
       "      <td>0.0</td>\n",
       "      <td>13.40</td>\n",
       "      <td>yellow</td>\n",
       "      <td>credit card</td>\n",
       "      <td>Manhattan</td>\n",
       "      <td>Manhattan</td>\n",
       "    </tr>\n",
       "  </tbody>\n",
       "</table>\n",
       "</div>"
      ],
      "text/plain": [
       "               pickup             dropoff  passengers  distance  fare   tip  \\\n",
       "0 2019-03-23 20:21:09 2019-03-23 20:27:24           1      1.60   7.0  2.15   \n",
       "1 2019-03-04 16:11:55 2019-03-04 16:19:00           1      0.79   5.0  0.00   \n",
       "2 2019-03-27 17:53:01 2019-03-27 18:00:25           1      1.37   7.5  2.36   \n",
       "3 2019-03-10 01:23:59 2019-03-10 01:49:51           1      7.70  27.0  6.15   \n",
       "4 2019-03-30 13:27:42 2019-03-30 13:37:14           3      2.16   9.0  1.10   \n",
       "\n",
       "   tolls  total   color      payment pickup_borough dropoff_borough  \n",
       "0    0.0  12.95  yellow  credit card      Manhattan       Manhattan  \n",
       "1    0.0   9.30  yellow         cash      Manhattan       Manhattan  \n",
       "2    0.0  14.16  yellow  credit card      Manhattan       Manhattan  \n",
       "3    0.0  36.95  yellow  credit card      Manhattan       Manhattan  \n",
       "4    0.0  13.40  yellow  credit card      Manhattan       Manhattan  "
      ]
     },
     "execution_count": 48,
     "metadata": {},
     "output_type": "execute_result"
    }
   ],
   "source": [
    "#show the cleaning data\n",
    "\n",
    "taxis_df.head()"
   ]
  },
  {
   "cell_type": "code",
   "execution_count": 49,
   "id": "341f6287-986e-4424-a83f-ba1a706852af",
   "metadata": {},
   "outputs": [
    {
     "name": "stdout",
     "output_type": "stream",
     "text": [
      "<class 'pandas.core.frame.DataFrame'>\n",
      "RangeIndex: 6433 entries, 0 to 6432\n",
      "Data columns (total 12 columns):\n",
      " #   Column           Non-Null Count  Dtype         \n",
      "---  ------           --------------  -----         \n",
      " 0   pickup           6433 non-null   datetime64[ns]\n",
      " 1   dropoff          6433 non-null   datetime64[ns]\n",
      " 2   passengers       6433 non-null   int64         \n",
      " 3   distance         6433 non-null   float64       \n",
      " 4   fare             6433 non-null   float64       \n",
      " 5   tip              6433 non-null   float64       \n",
      " 6   tolls            6433 non-null   float64       \n",
      " 7   total            6433 non-null   float64       \n",
      " 8   color            6433 non-null   object        \n",
      " 9   payment          6433 non-null   object        \n",
      " 10  pickup_borough   6433 non-null   object        \n",
      " 11  dropoff_borough  6433 non-null   object        \n",
      "dtypes: datetime64[ns](2), float64(5), int64(1), object(4)\n",
      "memory usage: 603.2+ KB\n"
     ]
    }
   ],
   "source": [
    "taxis_df.info()"
   ]
  },
  {
   "cell_type": "markdown",
   "id": "7570c2ce-3409-464a-a193-ab18a73728cd",
   "metadata": {},
   "source": [
    "# **EDA**"
   ]
  },
  {
   "cell_type": "markdown",
   "id": "e6fa99f4-1e29-4599-aac4-a13cb2344097",
   "metadata": {},
   "source": [
    "**Tampilkan 5 Tanggal (tanggal bulan tahun) dengan jumlah dan nilai transaksi terbanyak**"
   ]
  },
  {
   "cell_type": "code",
   "execution_count": 71,
   "id": "cf77b9cd-9d02-4ba8-8191-72256c2168bc",
   "metadata": {},
   "outputs": [],
   "source": [
    "# Menghitung total nilai transaksi (fare + tip + tolls) untuk setiap perjalanan\n",
    "taxis_df['total_transaction'] = taxis_df['fare'] + taxis_df['tip'] + taxis_df['tolls']"
   ]
  },
  {
   "cell_type": "code",
   "execution_count": 73,
   "id": "0a65fc28-f6df-4d85-b078-579f65a47f7e",
   "metadata": {},
   "outputs": [
    {
     "name": "stdout",
     "output_type": "stream",
     "text": [
      "           total_transaction      \n",
      "                         sum count\n",
      "pickup                            \n",
      "2019-02-28              5.00     1\n",
      "2019-03-01           3449.78   241\n",
      "2019-03-02           2720.77   198\n",
      "2019-03-03           2529.92   169\n",
      "2019-03-04           2734.08   171\n",
      "2019-03-05           3649.78   228\n",
      "2019-03-06           3885.46   257\n",
      "2019-03-07           3376.20   218\n",
      "2019-03-08           3753.76   235\n",
      "2019-03-09           3164.20   204\n",
      "2019-03-10           2669.94   185\n",
      "2019-03-11           3359.31   209\n",
      "2019-03-12           3180.60   218\n",
      "2019-03-13           4094.31   244\n",
      "2019-03-14           3914.25   260\n",
      "2019-03-15           3398.79   201\n",
      "2019-03-16           3223.58   220\n",
      "2019-03-17           2940.20   178\n",
      "2019-03-18           2711.13   173\n",
      "2019-03-19           3329.07   201\n",
      "2019-03-20           3791.15   233\n",
      "2019-03-21           3631.63   221\n",
      "2019-03-22           3530.46   229\n",
      "2019-03-23           2736.98   209\n",
      "2019-03-24           2171.96   149\n",
      "2019-03-25           2373.40   155\n",
      "2019-03-26           2780.75   178\n",
      "2019-03-27           3687.67   232\n",
      "2019-03-28           3231.14   205\n",
      "2019-03-29           3087.67   209\n",
      "2019-03-30           3365.19   215\n",
      "2019-03-31           2561.54   187\n"
     ]
    }
   ],
   "source": [
    "# Mengelompokkan data berdasarkan tanggal pickup, kemudian menghitung jumlah dan nilai transaksi untuk setiap tanggal\n",
    "daily_transactions = taxis_df.groupby(taxis_df['pickup'].dt.date).agg({'total_transaction': ['sum', 'count']})\n",
    "\n",
    "print(daily_transactions)"
   ]
  },
  {
   "cell_type": "code",
   "execution_count": 89,
   "id": "3eca3f29-b719-4854-b55b-a240bdf96631",
   "metadata": {},
   "outputs": [
    {
     "name": "stdout",
     "output_type": "stream",
     "text": [
      "            total_value  total_count\n",
      "pickup                              \n",
      "2019-03-13      4094.31          244\n",
      "2019-03-14      3914.25          260\n",
      "2019-03-06      3885.46          257\n",
      "2019-03-20      3791.15          233\n",
      "2019-03-08      3753.76          235\n",
      "2019-03-27      3687.67          232\n",
      "2019-03-05      3649.78          228\n",
      "2019-03-21      3631.63          221\n",
      "2019-03-22      3530.46          229\n",
      "2019-03-01      3449.78          241\n",
      "2019-03-15      3398.79          201\n",
      "2019-03-07      3376.20          218\n",
      "2019-03-30      3365.19          215\n",
      "2019-03-11      3359.31          209\n",
      "2019-03-19      3329.07          201\n",
      "2019-03-28      3231.14          205\n",
      "2019-03-16      3223.58          220\n",
      "2019-03-12      3180.60          218\n",
      "2019-03-09      3164.20          204\n",
      "2019-03-29      3087.67          209\n",
      "2019-03-17      2940.20          178\n",
      "2019-03-26      2780.75          178\n",
      "2019-03-23      2736.98          209\n",
      "2019-03-04      2734.08          171\n",
      "2019-03-02      2720.77          198\n",
      "2019-03-18      2711.13          173\n",
      "2019-03-10      2669.94          185\n",
      "2019-03-31      2561.54          187\n",
      "2019-03-03      2529.92          169\n",
      "2019-03-25      2373.40          155\n",
      "2019-03-24      2171.96          149\n",
      "2019-02-28         5.00            1\n"
     ]
    }
   ],
   "source": [
    "# Menamai ulang kolom hasil agregasi\n",
    "daily_transactions.columns = ['total_value', 'total_count']\n",
    "\n",
    "# Mengurutkan berdasarkan total nilai transaksi secara menurun\n",
    "daily_transactions = daily_transactions.sort_values(by='total_value', ascending=False)\n",
    "\n",
    "print(daily_transactions)"
   ]
  },
  {
   "cell_type": "code",
   "execution_count": 90,
   "id": "054495be-c2a1-4788-984e-777ae93d3fb1",
   "metadata": {},
   "outputs": [
    {
     "name": "stdout",
     "output_type": "stream",
     "text": [
      "            total_value  total_count\n",
      "pickup                              \n",
      "2019-03-13      4094.31          244\n",
      "2019-03-14      3914.25          260\n",
      "2019-03-06      3885.46          257\n",
      "2019-03-20      3791.15          233\n",
      "2019-03-08      3753.76          235\n"
     ]
    }
   ],
   "source": [
    "# Mengambil 5 tanggal teratas\n",
    "top_5_dates = daily_transactions.head(5)\n",
    "\n",
    "# Menampilkan hasil\n",
    "print(top_5_dates)"
   ]
  },
  {
   "cell_type": "code",
   "execution_count": 99,
   "id": "148f4eb6-f18d-4b5c-9df4-336c663be490",
   "metadata": {},
   "outputs": [
    {
     "data": {
      "image/png": "[encoded data removed]",
      "text/plain": [
       "<Figure size 640x480 with 1 Axes>"
      ]
     },
     "metadata": {},
     "output_type": "display_data"
    }
   ],
   "source": [
    "# Mengambil nilai indeks tanggal dan nilai transaksi dari DataFrame top_5_dates\n",
    "dates = top_5_dates.index\n",
    "transaction_values = top_5_dates['total_value']\n",
    "\n",
    "# Membuat bar chart\n",
    "plt.bar(dates, transaction_values)\n",
    "\n",
    "# Memberi label pada sumbu x dan y\n",
    "plt.xlabel('Dates')\n",
    "plt.ylabel('Total Transaction Value')\n",
    "\n",
    "# Memberi judul pada plot\n",
    "plt.title(\"Top 5 Dates by Total Transaction Value\")\n",
    "\n",
    "# Menampilkan plot\n",
    "plt.show()"
   ]
  },
  {
   "cell_type": "code",
   "execution_count": 68,
   "id": "6a95f373-5094-43fd-9423-cb28f47b3533",
   "metadata": {},
   "outputs": [
    {
     "name": "stdout",
     "output_type": "stream",
     "text": [
      "            total_value  total_harga\n",
      "pickup                              \n",
      "2019-03-13      4094.31          244\n",
      "2019-03-14      3914.25          260\n",
      "2019-03-06      3885.46          257\n",
      "2019-03-20      3791.15          233\n",
      "2019-03-08      3753.76          235\n"
     ]
    }
   ],
   "source": [
    "# Menghitung total nilai transaksi (fare + tip + tolls) untuk setiap perjalanan\n",
    "taxis_df['total_transaction'] = taxis_df['fare'] + taxis_df['tip'] + taxis_df['tolls']\n",
    "\n",
    "# Mengelompokkan data berdasarkan tanggal pickup, kemudian menghitung jumlah dan nilai transaksi untuk setiap tanggal\n",
    "daily_transactions = taxis_df.groupby(taxis_df['pickup'].dt.date).agg({'total_transaction': ['sum', 'count']})\n",
    "\n",
    "# Menamai ulang kolom hasil agregasi\n",
    "daily_transactions.columns = ['total_value', 'total_harga']\n",
    "\n",
    "# Mengurutkan berdasarkan total nilai transaksi secara menurun\n",
    "daily_transactions = daily_transactions.sort_values(by='total_value', ascending=False)\n",
    "\n",
    "# Mengambil 5 tanggal teratas\n",
    "top_5_dates = daily_transactions.head(5)\n",
    "\n",
    "# Menampilkan hasil\n",
    "print(top_5_dates)\n"
   ]
  },
  {
   "cell_type": "code",
   "execution_count": 64,
   "id": "f9ac3a01-ca10-4db5-925c-1051499a0b6a",
   "metadata": {},
   "outputs": [
    {
     "name": "stdout",
     "output_type": "stream",
     "text": [
      "            total_value  total_count\n",
      "pickup                              \n",
      "2019-03-13      4094.31          244\n",
      "2019-03-14      3914.25          260\n",
      "2019-03-06      3885.46          257\n",
      "2019-03-20      3791.15          233\n",
      "2019-03-08      3753.76          235\n"
     ]
    }
   ],
   "source": [
    "#import pandas as pd\n",
    "\n",
    "# Membaca data dari file CSV atau sumber lainnya\n",
    "#data = pd.read_csv('nama_file.csv')  # Ganti 'nama_file.csv' dengan nama file sesuai dengan data Anda\n",
    "\n",
    "# Konversi kolom 'pickup' menjadi tipe data datetime jika belum dalam format tersebut\n",
    "#data['pickup'] = pd.to_datetime(data['pickup'])\n",
    "\n",
    "# Menghitung total nilai transaksi (fare + tip + tolls) untuk setiap perjalanan\n",
    "taxis_df['total_transaction'] = taxis_df['fare'] + taxis_df['tip'] + taxis_df['tolls']\n",
    "\n",
    "# Mengelompokkan data berdasarkan tanggal pickup, kemudian menghitung jumlah dan nilai transaksi untuk setiap tanggal\n",
    "daily_transactions = taxis_df.groupby(taxis_df['pickup'].dt.date).agg({'total_transaction': ['sum', 'count']})\n",
    "\n",
    "# Menamai ulang kolom hasil agregasi\n",
    "daily_transactions.columns = ['total_value', 'total_count']\n",
    "\n",
    "# Mengurutkan berdasarkan total nilai transaksi secara menurun\n",
    "daily_transactions = daily_transactions.sort_values(by='total_value', ascending=False)\n",
    "\n",
    "# Mengambil 5 tanggal teratas\n",
    "top_5_dates = daily_transactions.head(5)\n",
    "\n",
    "# Menampilkan hasil\n",
    "print(top_5_dates)\n"
   ]
  },
  {
   "cell_type": "code",
   "execution_count": 60,
   "id": "5767f454-dfd6-4e4e-8340-842a6265bf5e",
   "metadata": {},
   "outputs": [],
   "source": [
    "#import pandas as pd\n",
    "\n",
    "# Membaca data dari file CSV atau dari sumber lainnya\n",
    "#data = pd.read_csv('nama_file.csv')  # Ganti 'nama_file.csv' dengan nama file sesuai dengan data Anda\n",
    "\n",
    "# Konversi kolom 'pickup' dan 'dropoff' menjadi tipe data datetime jika belum dalam format tersebut\n",
    "#data['pickup'] = pd.to_datetime(data['pickup'])\n",
    "#data['dropoff'] = pd.to_datetime(data['dropoff'])\n",
    "\n",
    "# Menghitung total nilai transaksi (fare + tip + tolls) untuk setiap perjalanan\n",
    "taxis_df['total_transaction'] = taxis_df['fare'] + taxis_df['tip'] + taxis_df['tolls']\n",
    "\n",
    "# Mengelompokkan data berdasarkan jumlah penumpang, kemudian mengambil 5 perjalanan dengan total transaksi tertinggi dalam setahun\n",
    "#top_5_passengers = taxis_df.groupby('passengers').apply(lambda x: x.nlargest(5, 'total_transaction')).reset_index(drop=False)\n",
    "\n",
    "# Menampilkan hasil\n",
    "#print(top_5_passengers)\n"
   ]
  },
  {
   "cell_type": "code",
   "execution_count": 62,
   "id": "e013ea80-77fb-47f8-87ff-ac241460aaa7",
   "metadata": {},
   "outputs": [
    {
     "ename": "ValueError",
     "evalue": "cannot insert payment, already exists",
     "output_type": "error",
     "traceback": [
      "\u001b[1;31m---------------------------------------------------------------------------\u001b[0m",
      "\u001b[1;31mValueError\u001b[0m                                Traceback (most recent call last)",
      "\u001b[1;32m~\\AppData\\Local\\Temp\\ipykernel_11572\\938212809.py\u001b[0m in \u001b[0;36m?\u001b[1;34m()\u001b[0m\n\u001b[0;32m      1\u001b[0m \u001b[1;31m# Mengelompokkan data berdasarkan jumlah penumpang, kemudian mengambil 5 perjalanan dengan total transaksi tertinggi dalam setahun\u001b[0m\u001b[1;33m\u001b[0m\u001b[1;33m\u001b[0m\u001b[0m\n\u001b[1;32m----> 2\u001b[1;33m \u001b[0mtop_5_passengers\u001b[0m \u001b[1;33m=\u001b[0m \u001b[0mtaxis_df\u001b[0m\u001b[1;33m.\u001b[0m\u001b[0mgroupby\u001b[0m\u001b[1;33m(\u001b[0m\u001b[1;34m'payment'\u001b[0m\u001b[1;33m)\u001b[0m\u001b[1;33m.\u001b[0m\u001b[0mapply\u001b[0m\u001b[1;33m(\u001b[0m\u001b[1;32mlambda\u001b[0m \u001b[0mx\u001b[0m\u001b[1;33m:\u001b[0m \u001b[0mx\u001b[0m\u001b[1;33m.\u001b[0m\u001b[0mnlargest\u001b[0m\u001b[1;33m(\u001b[0m\u001b[1;36m5\u001b[0m\u001b[1;33m,\u001b[0m \u001b[1;34m'total_transaction'\u001b[0m\u001b[1;33m)\u001b[0m\u001b[1;33m)\u001b[0m\u001b[1;33m.\u001b[0m\u001b[0mreset_index\u001b[0m\u001b[1;33m(\u001b[0m\u001b[0mdrop\u001b[0m\u001b[1;33m=\u001b[0m\u001b[1;32mFalse\u001b[0m\u001b[1;33m)\u001b[0m\u001b[1;33m\u001b[0m\u001b[1;33m\u001b[0m\u001b[0m\n\u001b[0m",
      "\u001b[1;32mC:\\ProgramData\\anaconda3\\Lib\\site-packages\\pandas\\core\\frame.py\u001b[0m in \u001b[0;36m?\u001b[1;34m(self, level, drop, inplace, col_level, col_fill, allow_duplicates, names)\u001b[0m\n\u001b[0;32m   6216\u001b[0m                     level_values = algorithms.take(\n\u001b[0;32m   6217\u001b[0m                         \u001b[0mlevel_values\u001b[0m\u001b[1;33m,\u001b[0m \u001b[0mlab\u001b[0m\u001b[1;33m,\u001b[0m \u001b[0mallow_fill\u001b[0m\u001b[1;33m=\u001b[0m\u001b[1;32mTrue\u001b[0m\u001b[1;33m,\u001b[0m \u001b[0mfill_value\u001b[0m\u001b[1;33m=\u001b[0m\u001b[0mlev\u001b[0m\u001b[1;33m.\u001b[0m\u001b[0m_na_value\u001b[0m\u001b[1;33m\u001b[0m\u001b[1;33m\u001b[0m\u001b[0m\n\u001b[0;32m   6218\u001b[0m                     )\n\u001b[0;32m   6219\u001b[0m \u001b[1;33m\u001b[0m\u001b[0m\n\u001b[1;32m-> 6220\u001b[1;33m                 new_obj.insert(\n\u001b[0m\u001b[0;32m   6221\u001b[0m                     \u001b[1;36m0\u001b[0m\u001b[1;33m,\u001b[0m\u001b[1;33m\u001b[0m\u001b[1;33m\u001b[0m\u001b[0m\n\u001b[0;32m   6222\u001b[0m                     \u001b[0mname\u001b[0m\u001b[1;33m,\u001b[0m\u001b[1;33m\u001b[0m\u001b[1;33m\u001b[0m\u001b[0m\n\u001b[0;32m   6223\u001b[0m                     \u001b[0mlevel_values\u001b[0m\u001b[1;33m,\u001b[0m\u001b[1;33m\u001b[0m\u001b[1;33m\u001b[0m\u001b[0m\n",
      "\u001b[1;32mC:\\ProgramData\\anaconda3\\Lib\\site-packages\\pandas\\core\\frame.py\u001b[0m in \u001b[0;36m?\u001b[1;34m(self, loc, column, value, allow_duplicates)\u001b[0m\n\u001b[0;32m   4927\u001b[0m                 \u001b[1;34m\"'self.flags.allows_duplicate_labels' is False.\"\u001b[0m\u001b[1;33m\u001b[0m\u001b[1;33m\u001b[0m\u001b[0m\n\u001b[0;32m   4928\u001b[0m             )\n\u001b[0;32m   4929\u001b[0m         \u001b[1;32mif\u001b[0m \u001b[1;32mnot\u001b[0m \u001b[0mallow_duplicates\u001b[0m \u001b[1;32mand\u001b[0m \u001b[0mcolumn\u001b[0m \u001b[1;32min\u001b[0m \u001b[0mself\u001b[0m\u001b[1;33m.\u001b[0m\u001b[0mcolumns\u001b[0m\u001b[1;33m:\u001b[0m\u001b[1;33m\u001b[0m\u001b[1;33m\u001b[0m\u001b[0m\n\u001b[0;32m   4930\u001b[0m             \u001b[1;31m# Should this be a different kind of error??\u001b[0m\u001b[1;33m\u001b[0m\u001b[1;33m\u001b[0m\u001b[0m\n\u001b[1;32m-> 4931\u001b[1;33m             \u001b[1;32mraise\u001b[0m \u001b[0mValueError\u001b[0m\u001b[1;33m(\u001b[0m\u001b[1;34mf\"cannot insert {column}, already exists\"\u001b[0m\u001b[1;33m)\u001b[0m\u001b[1;33m\u001b[0m\u001b[1;33m\u001b[0m\u001b[0m\n\u001b[0m\u001b[0;32m   4932\u001b[0m         \u001b[1;32mif\u001b[0m \u001b[1;32mnot\u001b[0m \u001b[0mis_integer\u001b[0m\u001b[1;33m(\u001b[0m\u001b[0mloc\u001b[0m\u001b[1;33m)\u001b[0m\u001b[1;33m:\u001b[0m\u001b[1;33m\u001b[0m\u001b[1;33m\u001b[0m\u001b[0m\n\u001b[0;32m   4933\u001b[0m             \u001b[1;32mraise\u001b[0m \u001b[0mTypeError\u001b[0m\u001b[1;33m(\u001b[0m\u001b[1;34m\"loc must be int\"\u001b[0m\u001b[1;33m)\u001b[0m\u001b[1;33m\u001b[0m\u001b[1;33m\u001b[0m\u001b[0m\n\u001b[0;32m   4934\u001b[0m         \u001b[1;31m# convert non stdlib ints to satisfy typing checks\u001b[0m\u001b[1;33m\u001b[0m\u001b[1;33m\u001b[0m\u001b[0m\n",
      "\u001b[1;31mValueError\u001b[0m: cannot insert payment, already exists"
     ]
    }
   ],
   "source": [
    "# Mengelompokkan data berdasarkan jumlah penumpang, kemudian mengambil 5 perjalanan dengan total transaksi tertinggi dalam setahun\n",
    "top_5_passengers = taxis_df.groupby('payment').apply(lambda x: x.nlargest(5, 'total_transaction')).reset_index(drop=False)"
   ]
  },
  {
   "cell_type": "code",
   "execution_count": null,
   "id": "15ab7fd0-9dcd-4b55-a1f6-1fffe1a3581c",
   "metadata": {},
   "outputs": [],
   "source": [
    "Harga fare termurah dan termahal yang di ukur berdasarkan tempat awal dan tempat tujuan"
   ]
  },
  {
   "cell_type": "code",
   "execution_count": 9,
   "id": "311f2ca1-cab4-4f00-a074-8e4b0c4f838a",
   "metadata": {},
   "outputs": [],
   "source": [
    "result = taxis_df.groupby('pickup_borough').agg({'fare': ['mean', 'max', 'min'],\n",
    "                                      #'distance': 'mean',\n",
    "                                      #'total': 'mean'})\n",
    "\n",
    "#columns = ['harga rata', 'harga max', 'harga min', 'distance', 'total']\n",
    "\n",
    "#print(result)"
   ]
  },
  {
   "cell_type": "code",
   "execution_count": 27,
   "id": "0ff981d4-9662-4759-b7bd-faa015915919",
   "metadata": {},
   "outputs": [
    {
     "name": "stdout",
     "output_type": "stream",
     "text": [
      "          total       fare\n",
      "distance                  \n",
      "0.00         51   20.47451\n",
      "0.01          1    2.50000\n",
      "0.02          3    2.50000\n",
      "0.03          1    2.50000\n",
      "0.04          1    2.50000\n",
      "...         ...        ...\n",
      "30.23         1   52.00000\n",
      "33.46         1  150.00000\n",
      "33.76         1  143.50000\n",
      "36.66         1   96.50000\n",
      "36.70         1  150.00000\n",
      "\n",
      "[1079 rows x 2 columns]\n"
     ]
    }
   ],
   "source": [
    "result = taxis_df.groupby('distance').agg({\n",
    "    'total': 'count',  # Menghitung jumlah properti (menggunakan kolom 'neighbourhood')\n",
    "    'fare': 'mean'  # Menghitung rata-rata harga (menggunakan kolom 'price')\n",
    "})\n",
    "\n",
    "#result.columns = ['jarak', 'rerata_total_yg_harus_dibayar', 'apa']\n",
    "\n",
    "print(result)"
   ]
  },
  {
   "cell_type": "code",
   "execution_count": null,
   "id": "bed78883-16dc-428a-87f6-303528e9899e",
   "metadata": {},
   "outputs": [],
   "source": []
  }
 ],
 "metadata": {
  "kernelspec": {
   "display_name": "Python 3 (ipykernel)",
   "language": "python",
   "name": "python3"
  },
  "language_info": {
   "codemirror_mode": {
    "name": "ipython",
    "version": 3
   },
   "file_extension": ".py",
   "mimetype": "text/x-python",
   "name": "python",
   "nbconvert_exporter": "python",
   "pygments_lexer": "ipython3",
   "version": "3.11.7"
  }
 },
 "nbformat": 4,
 "nbformat_minor": 5
}
